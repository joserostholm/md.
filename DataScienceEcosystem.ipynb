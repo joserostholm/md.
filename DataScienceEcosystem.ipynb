{
 "cells": [
  {
   "cell_type": "markdown",
   "id": "18795533",
   "metadata": {},
   "source": [
    "# Data Science Tools and Ecosystem"
   ]
  },
  {
   "cell_type": "markdown",
   "id": "8c8a9afa",
   "metadata": {},
   "source": [
    "__Objectives:__"
   ]
  },
  {
   "cell_type": "markdown",
   "id": "e8031014",
   "metadata": {},
   "source": [
    "* Popular languages that Data Scientists use \n",
    "* Commonly used libraries used by Data Scientists\n",
    "* Few examples of evaluating arithmetic expressions in Python"
   ]
  },
  {
   "attachments": {},
   "cell_type": "markdown",
   "id": "51ed00cc",
   "metadata": {},
   "source": [
    "In this notebook, Data Science Tools and Ecosystem are summarized."
   ]
  },
  {
   "cell_type": "markdown",
   "id": "bed12887",
   "metadata": {},
   "source": [
    "## Author"
   ]
  },
  {
   "cell_type": "markdown",
   "id": "6217bc91",
   "metadata": {},
   "source": [
    "Josefine RT"
   ]
  },
  {
   "cell_type": "markdown",
   "id": "ccf5b822",
   "metadata": {},
   "source": [
    "Some of the popular languages that Data Scientists use are:"
   ]
  },
  {
   "cell_type": "markdown",
   "id": "090f2437",
   "metadata": {},
   "source": [
    "1. Python\n",
    "2. Scala\n",
    "3. SQL"
   ]
  },
  {
   "cell_type": "markdown",
   "id": "5f50bbdf",
   "metadata": {},
   "source": [
    "Some of the commonly used libraries used by Data Scientists include:"
   ]
  },
  {
   "cell_type": "markdown",
   "id": "4ada38a9",
   "metadata": {},
   "source": [
    "1. Pandas\n",
    "2. Caffe\n",
    "3. PyTorch\n"
   ]
  },
  {
   "cell_type": "markdown",
   "id": "d0d9e502",
   "metadata": {},
   "source": [
    "Data Science Tools"
   ]
  },
  {
   "cell_type": "markdown",
   "id": "14a5f291",
   "metadata": {},
   "source": [
    "|  TensorFlow   |  Apache Spark   |  RStudio |\n",
    "|:-------------:|:---------------:|:--------:|"
   ]
  },
  {
   "cell_type": "markdown",
   "id": "0f2c9b11",
   "metadata": {},
   "source": [
    "### Below are a few examples of evaluating arithmetic expressions in Python"
   ]
  },
  {
   "cell_type": "markdown",
   "id": "64678a59",
   "metadata": {},
   "source": [
    "This is a simple arithmetic expression to mutiply then add integers \n"
   ]
  },
  {
   "cell_type": "code",
   "execution_count": 19,
   "id": "bafca74e",
   "metadata": {},
   "outputs": [
    {
     "data": {
      "text/plain": [
       "17"
      ]
     },
     "execution_count": 19,
     "metadata": {},
     "output_type": "execute_result"
    }
   ],
   "source": [
    "(3*4)+5\n"
   ]
  },
  {
   "cell_type": "markdown",
   "id": "f33c41ef",
   "metadata": {},
   "source": [
    " This will convert 200 minutes to hours by dividing by 60"
   ]
  },
  {
   "cell_type": "code",
   "execution_count": 20,
   "id": "6d86bbeb",
   "metadata": {},
   "outputs": [
    {
     "data": {
      "text/plain": [
       "3.3333333333333335"
      ]
     },
     "execution_count": 20,
     "metadata": {},
     "output_type": "execute_result"
    }
   ],
   "source": [
    "200/60"
   ]
  }
 ],
 "metadata": {
  "kernelspec": {
   "display_name": "Python 3 (ipykernel)",
   "language": "python",
   "name": "python3"
  },
  "language_info": {
   "codemirror_mode": {
    "name": "ipython",
    "version": 3
   },
   "file_extension": ".py",
   "mimetype": "text/x-python",
   "name": "python",
   "nbconvert_exporter": "python",
   "pygments_lexer": "ipython3",
   "version": "3.11.4"
  }
 },
 "nbformat": 4,
 "nbformat_minor": 5
}
